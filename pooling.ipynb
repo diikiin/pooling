{
 "cells": [
  {
   "cell_type": "markdown",
   "metadata": {},
   "source": [
    "# Pooling"
   ]
  },
  {
   "cell_type": "markdown",
   "metadata": {},
   "source": [
    "<p><b>Pooling layers</b> are part of Convolutional Neural Networks (CNN). While Convolutional layers are responsible for identifying features in images, Pooling layers play a role in summarizing the features acquired by CNNs. Their primary objective is to progressively reduce the spatial dimensions of the representation, thereby reducing the volume of parameters and computational load within the network. For example, if we take image of size 256x256 and kernel of polling 2x2 then after pooling we will get image of size 128x128. This will reduce the spatial dimensions (width and height) of the input volume while retaining  important features.\n",
    "<p>There are many types of pooling layers, such Max Pooling, Min Pooling, Average Pooling, Stochastic Polling and etc. but we will discuss only most commonly used types."
   ]
  },
  {
   "cell_type": "markdown",
   "metadata": {},
   "source": [
    "## Max pooling"
   ]
  },
  {
   "cell_type": "markdown",
   "metadata": {},
   "source": [
    "Max Pooling is mainly used type of pooling layer. It retains only the highest value from each kernel matrices and discards the other values.\n",
    "This means that max pooling will take the sharpest pixels from original image and reduced image consequently will be sharper than original."
   ]
  },
  {
   "cell_type": "markdown",
   "metadata": {},
   "source": [
    "QUIZ!\n",
    "What will be output of this matrix after Max Polling layer with kernel 2x2?\n",
    "[[9 2 8 8]\n",
    " [4 0 8 6]\n",
    " [7 6 7 7]\n",
    " [8 7 4 7]]"
   ]
  },
  {
   "cell_type": "code",
   "execution_count": 2,
   "metadata": {},
   "outputs": [
    {
     "name": "stdout",
     "output_type": "stream",
     "text": [
      "[[6 8 8 2]\n",
      " [8 6 4 2]\n",
      " [2 9 4 2]\n",
      " [1 4 1 9]]\n"
     ]
    }
   ],
   "source": [
    "import numpy as np\n",
    "\n",
    "matrix = np.random.randint(0, 10, size=(4, 4))\n",
    "\n",
    "print(matrix)"
   ]
  },
  {
   "cell_type": "code",
   "execution_count": 3,
   "metadata": {},
   "outputs": [
    {
     "name": "stdout",
     "output_type": "stream",
     "text": [
      "(1, 2, 2, 1)\n",
      "tf.Tensor(\n",
      "[[8 8]\n",
      " [9 9]], shape=(2, 2), dtype=int32)\n"
     ]
    }
   ],
   "source": [
    "import tensorflow as tf\n",
    "\n",
    "matrix = matrix.reshape(1,4,4,1)\n",
    "\n",
    "max_pooling=tf.keras.layers.MaxPool2D(pool_size=2,strides=2)\n",
    "max_pooled_matrix=max_pooling(matrix)\n",
    "print(max_pooled_matrix.shape)\n",
    "print(tf.squeeze(max_pooled_matrix))"
   ]
  },
  {
   "cell_type": "markdown",
   "metadata": {},
   "source": [
    "## Average pooling"
   ]
  },
  {
   "cell_type": "markdown",
   "metadata": {},
   "source": [
    " In this layer, each local region of the input feature map is subjected to an averaging operation, where the output value represents the mean of the values within that region. It makes resulting image more gradient than the original."
   ]
  },
  {
   "cell_type": "markdown",
   "metadata": {},
   "source": [
    "QUIZ!\n",
    "What will be output of this matrix after Average Polling layer with kernel 2x2?\n",
    "[[0 2 8 3]\n",
    " [4 2 4 3]\n",
    " [2 1 5 2]\n",
    " [8 3 6 8]]"
   ]
  },
  {
   "cell_type": "code",
   "execution_count": 4,
   "metadata": {},
   "outputs": [
    {
     "name": "stdout",
     "output_type": "stream",
     "text": [
      "(1, 2, 2, 1)\n",
      "tf.Tensor(\n",
      "[[5. 4.]\n",
      " [3. 2.]], shape=(2, 2), dtype=float32)\n"
     ]
    }
   ],
   "source": [
    "# matrix = matrix.reshape(1,4,4,1)\n",
    "matrix = np.array([[5.,6.,1.,4.],\n",
    "                   [6.,3.,9.,2.],\n",
    "                   [5.,0.,2.,4.],\n",
    "                   [7.,0.,2.,0.]]).reshape(1,4,4,1)\n",
    "\n",
    "average_pooling = tf.keras.layers.AveragePooling2D(pool_size=2, strides=2)\n",
    "average_pooled_matrix = average_pooling(matrix)\n",
    "print(average_pooled_matrix.shape)\n",
    "print(tf.squeeze(average_pooled_matrix))"
   ]
  },
  {
   "cell_type": "markdown",
   "metadata": {},
   "source": [
    "![SegmentLocal](pooling.gif \"Pooling layers\")"
   ]
  },
  {
   "cell_type": "markdown",
   "metadata": {},
   "source": [
    "Quiz!\n",
    "In which situation is Max Pooling more suitable and in which Average Pooling?"
   ]
  },
  {
   "cell_type": "markdown",
   "metadata": {},
   "source": [
    "![Max and Average pooling](Max-pooling-and-average-pooling.png)"
   ]
  },
  {
   "cell_type": "markdown",
   "metadata": {},
   "source": [
    "## Global Pooling Layers"
   ]
  },
  {
   "cell_type": "markdown",
   "metadata": {},
   "source": [
    "In Pooling layers that we discussed before, after layer we need Fully connected or Dense layer where each neuron is connected to every neuron in preceding layer. Global Pooling layers can produce one-dimensional single value that can be executed in softmax without Dense layer."
   ]
  },
  {
   "cell_type": "markdown",
   "metadata": {},
   "source": [
    "### Global max pooling"
   ]
  },
  {
   "cell_type": "markdown",
   "metadata": {},
   "source": []
  },
  {
   "cell_type": "code",
   "execution_count": 9,
   "metadata": {},
   "outputs": [
    {
     "name": "stdout",
     "output_type": "stream",
     "text": [
      "[[[[5. 6. 1. 4.]\n",
      "   [6. 3. 9. 2.]]\n",
      "\n",
      "  [[5. 0. 2. 4.]\n",
      "   [7. 0. 2. 0.]]]]\n",
      "tf.Tensor([[7. 6. 9. 4.]], shape=(1, 4), dtype=float32)\n"
     ]
    }
   ],
   "source": [
    "matrix = np.array([[5.,6.,1.,4.],\n",
    "                   [6.,3.,9.,2.],\n",
    "                   [5.,0.,2.,4.],\n",
    "                   [7.,0.,2.,0.]]).reshape(1,2,2,4)\n",
    "print(matrix)\n",
    "\n",
    "global_max_pooling=tf.keras.layers.GlobalMaxPool2D()\n",
    "global_max_pooled_matrix=global_max_pooling(matrix)\n",
    "print(global_max_pooled_matrix)"
   ]
  },
  {
   "cell_type": "markdown",
   "metadata": {},
   "source": [
    "### Global average pooling"
   ]
  },
  {
   "cell_type": "markdown",
   "metadata": {},
   "source": []
  },
  {
   "cell_type": "code",
   "execution_count": 10,
   "metadata": {},
   "outputs": [
    {
     "name": "stdout",
     "output_type": "stream",
     "text": [
      "tf.Tensor([[5.75 2.25 3.5  2.5 ]], shape=(1, 4), dtype=float32)\n"
     ]
    }
   ],
   "source": [
    "global_average_pooling=tf.keras.layers.GlobalAveragePooling2D()\n",
    "global_average_pooled_matrix=global_average_pooling(matrix)\n",
    "print(global_average_pooled_matrix)"
   ]
  }
 ],
 "metadata": {
  "kernelspec": {
   "display_name": "Python 3 (ipykernel)",
   "language": "python",
   "name": "python3"
  },
  "language_info": {
   "codemirror_mode": {
    "name": "ipython",
    "version": 3
   },
   "file_extension": ".py",
   "mimetype": "text/x-python",
   "name": "python",
   "nbconvert_exporter": "python",
   "pygments_lexer": "ipython3",
   "version": "3.10.13"
  }
 },
 "nbformat": 4,
 "nbformat_minor": 2
}

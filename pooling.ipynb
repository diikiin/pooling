{
 "cells": [
  {
   "cell_type": "markdown",
   "metadata": {},
   "source": [
    "# Pooling"
   ]
  },
  {
   "cell_type": "markdown",
   "metadata": {},
   "source": [
    "<p><b>Pooling layers</b> are part of Convolutional Neural Networks (CNN). While Convolutional layers are responsible for identifying features in images, Pooling layers play a role in summarizing the features acquired by CNNs. Their primary objective is to progressively reduce the spatial dimensions of the representation, thereby reducing the volume of parameters and computational load within the network. For example, if we take image of size 256x256 and kernel of polling 2x2 then after pooling we will get image of size 128x128. This will reduce the spatial dimensions (width and height) of the input volume while retaining  important features.\n",
    "<p>There are many types of pooling layers, such Max Pooling, Min Pooling, Average Pooling, Stochastic Polling and etc. but we will discuss only most commonly used types."
   ]
  },
  {
   "cell_type": "markdown",
   "metadata": {},
   "source": [
    "## Max pooling"
   ]
  },
  {
   "cell_type": "markdown",
   "metadata": {},
   "source": [
    "Max Pooling is mainly used type of pooling layer. It retains only the highest value from each kernel matrices and discards the other values.\n",
    "This means that max pooling will take the sharpest pixels from original image and reduced image consequently will be sharper than original."
   ]
  },
  {
   "cell_type": "markdown",
   "metadata": {},
   "source": [
    "QUIZ!\n",
    "What will be output of this matrix after Max Polling layer with kernel 2x2?\n",
    "[[9 2 8 8]\n",
    " [4 0 8 6]\n",
    " [7 6 7 7]\n",
    " [8 7 4 7]]"
   ]
  },
  {
   "cell_type": "code",
   "execution_count": 16,
   "metadata": {},
   "outputs": [
    {
     "name": "stdout",
     "output_type": "stream",
     "text": [
      "[[1 6 7 4]\n",
      " [3 4 2 3]\n",
      " [2 6 3 9]\n",
      " [3 3 0 1]]\n"
     ]
    }
   ],
   "source": [
    "import numpy as np\n",
    "\n",
    "matrix = np.random.randint(0, 10, size=(4, 4))\n",
    "\n",
    "print(matrix)"
   ]
  },
  {
   "cell_type": "code",
   "execution_count": 14,
   "metadata": {},
   "outputs": [
    {
     "name": "stdout",
     "output_type": "stream",
     "text": [
      "(1, 2, 2, 1)\n",
      "tf.Tensor(\n",
      "[[6 9]\n",
      " [9 8]], shape=(2, 2), dtype=int32)\n"
     ]
    }
   ],
   "source": [
    "import tensorflow as tf\n",
    "\n",
    "matrix = matrix.reshape(1,4,4,1)\n",
    "\n",
    "max_pooling=tf.keras.layers.MaxPool2D(pool_size=2,strides=2)\n",
    "max_pooled_matrix=max_pooling(matrix)\n",
    "print(max_pooled_matrix.shape)\n",
    "print(tf.squeeze(max_pooled_matrix))"
   ]
  },
  {
   "cell_type": "markdown",
   "metadata": {},
   "source": [
    "## Average pooling"
   ]
  },
  {
   "cell_type": "markdown",
   "metadata": {},
   "source": []
  },
  {
   "cell_type": "markdown",
   "metadata": {},
   "source": [
    "QUIZ!\n",
    "What will be output of this matrix after Average Polling layer with kernel 2x2?\n",
    "[[0 2 8 3]\n",
    " [4 2 4 3]\n",
    " [2 1 5 2]\n",
    " [8 3 6 8]]"
   ]
  },
  {
   "cell_type": "code",
   "execution_count": 27,
   "metadata": {},
   "outputs": [
    {
     "name": "stdout",
     "output_type": "stream",
     "text": [
      "(1, 2, 2, 1)\n",
      "tf.Tensor(\n",
      "[[3. 1.]\n",
      " [4. 2.]], shape=(2, 2), dtype=float32)\n"
     ]
    }
   ],
   "source": [
    "# matrix = matrix.reshape(1,4,4,1)\n",
    "matrix = np.array([[3.,2.,0.,0.],\n",
    "                   [0.,7.,1.,3.],\n",
    "                   [5.,2.,3.,0.],\n",
    "                   [0.,9.,2.,3.]]).reshape(1,4,4,1)\n",
    "\n",
    "average_pooling = tf.keras.layers.AveragePooling2D(pool_size=2, strides=2)\n",
    "average_pooled_matrix = average_pooling(matrix)\n",
    "print(average_pooled_matrix.shape)\n",
    "print(tf.squeeze(average_pooled_matrix))"
   ]
  },
  {
   "cell_type": "markdown",
   "metadata": {},
   "source": [
    "![SegmentLocal](pooling.gif \"Pooling layers\")"
   ]
  },
  {
   "cell_type": "markdown",
   "metadata": {},
   "source": [
    "## Global max pooling"
   ]
  },
  {
   "cell_type": "markdown",
   "metadata": {},
   "source": []
  },
  {
   "cell_type": "markdown",
   "metadata": {},
   "source": [
    "## Global average pooling"
   ]
  },
  {
   "cell_type": "markdown",
   "metadata": {},
   "source": []
  }
 ],
 "metadata": {
  "kernelspec": {
   "display_name": "Python 3 (ipykernel)",
   "language": "python",
   "name": "python3"
  },
  "language_info": {
   "codemirror_mode": {
    "name": "ipython",
    "version": 3
   },
   "file_extension": ".py",
   "mimetype": "text/x-python",
   "name": "python",
   "nbconvert_exporter": "python",
   "pygments_lexer": "ipython3",
   "version": "3.10.13"
  }
 },
 "nbformat": 4,
 "nbformat_minor": 2
}

{
 "cells": [
  {
   "cell_type": "markdown",
   "metadata": {},
   "source": [
    "# Pooling"
   ]
  },
  {
   "cell_type": "markdown",
   "metadata": {},
   "source": [
    "<p><b>Pooling layers</b> are part of Convolutional Neural Networks (CNN). While Convolutional layers are responsible for identifying features in images, Pooling layers play a role in summarizing the features acquired by CNNs. Their primary objective is to progressively reduce the spatial dimensions of the representation, thereby reducing the volume of parameters and computational load within the network. For example, if we take image of size 256x256 and kernel of polling 2x2 then after pooling we will get image of size 128x128. This will reduce the spatial dimensions (width and height) of the input volume while retaining  important features.\n",
    "<p>There are many types of pooling layers, such Max Pooling, Min Pooling, Average Pooling, Stochastic Polling and etc. but we will discuss only most commonly used types."
   ]
  },
  {
   "cell_type": "markdown",
   "metadata": {},
   "source": [
    "## Max pooling"
   ]
  },
  {
   "cell_type": "markdown",
   "metadata": {},
   "source": [
    "Max Pooling is mainly used type of pooling layer. It retains only the highest value from each kernel matrices and discards the other values.\n",
    "This means that max pooling will take the sharpest pixels from original image and reduced image consequently will be sharper than original."
   ]
  },
  {
   "cell_type": "code",
   "execution_count": 23,
   "metadata": {},
   "outputs": [],
   "source": [
    "import numpy as np\n",
    "import matplotlib.pyplot as plt\n",
    "import seaborn as sns\n",
    "import tensorflow as tf\n",
    "from sklearn.metrics import confusion_matrix"
   ]
  },
  {
   "cell_type": "code",
   "execution_count": 47,
   "metadata": {},
   "outputs": [
    {
     "name": "stdout",
     "output_type": "stream",
     "text": [
      "[[2 0 9 9]\n",
      " [9 6 2 9]\n",
      " [1 5 4 9]\n",
      " [5 3 4 7]]\n"
     ]
    }
   ],
   "source": [
    "matrix = np.random.randint(0, 10, size=(4, 4))\n",
    "print(matrix)"
   ]
  },
  {
   "cell_type": "code",
   "execution_count": 15,
   "metadata": {},
   "outputs": [
    {
     "name": "stdout",
     "output_type": "stream",
     "text": [
      "(1, 2, 2, 1)\n",
      "tf.Tensor(\n",
      "[[9 8]\n",
      " [6 4]], shape=(2, 2), dtype=int32)\n"
     ]
    }
   ],
   "source": [
    "matrix = matrix.reshape(1,4,4,1)\n",
    "\n",
    "max_pooling=tf.keras.layers.MaxPool2D(pool_size=2,strides=2)\n",
    "max_pooled_matrix=max_pooling(matrix)\n",
    "print\n",
    "print(max_pooled_matrix.shape)\n",
    "print(tf.squeeze(max_pooled_matrix))"
   ]
  },
  {
   "cell_type": "code",
   "execution_count": 6,
   "metadata": {},
   "outputs": [],
   "source": [
    "mnist = tf.keras.datasets.mnist\n",
    "(X_train, y_train), (X_test, y_test) = mnist.load_data()"
   ]
  },
  {
   "cell_type": "code",
   "execution_count": 3,
   "metadata": {},
   "outputs": [
    {
     "data": {
      "text/plain": [
       "((60000, 28, 28), (10000, 28, 28))"
      ]
     },
     "execution_count": 3,
     "metadata": {},
     "output_type": "execute_result"
    }
   ],
   "source": [
    "X_train.shape, X_test.shape"
   ]
  },
  {
   "cell_type": "code",
   "execution_count": 3,
   "metadata": {},
   "outputs": [],
   "source": [
    "X_train, X_test = X_train/255.0, X_test/255.0\n",
    "X_train, X_test = np.expand_dims(X_train, axis=-1), np.expand_dims(X_test, axis=-1)"
   ]
  },
  {
   "cell_type": "code",
   "execution_count": 5,
   "metadata": {},
   "outputs": [
    {
     "data": {
      "text/plain": [
       "((60000, 28, 28, 1), (10000, 28, 28, 1))"
      ]
     },
     "execution_count": 5,
     "metadata": {},
     "output_type": "execute_result"
    }
   ],
   "source": [
    "X_train.shape, X_test.shape"
   ]
  },
  {
   "cell_type": "code",
   "execution_count": 4,
   "metadata": {},
   "outputs": [
    {
     "data": {
      "text/plain": [
       "(array([0, 1, 2, 3, 4, 5, 6, 7, 8, 9], dtype=uint8),\n",
       " array([5923, 6742, 5958, 6131, 5842, 5421, 5918, 6265, 5851, 5949],\n",
       "       dtype=int64))"
      ]
     },
     "execution_count": 4,
     "metadata": {},
     "output_type": "execute_result"
    }
   ],
   "source": [
    "np.unique(y_train, return_counts=True)"
   ]
  },
  {
   "cell_type": "code",
   "execution_count": 6,
   "metadata": {},
   "outputs": [],
   "source": [
    "max_pool_model = tf.keras.models.Sequential([\n",
    "    tf.keras.layers.Conv2D(32, (3,3), activation=\"relu\", padding=\"same\", input_shape=(28, 28, 1)),\n",
    "    tf.keras.layers.MaxPool2D((2,2), strides=(2,2)),\n",
    "    tf.keras.layers.Flatten(),\n",
    "    tf.keras.layers.Dense(10, activation=\"softmax\")\n",
    "])\n",
    "\n",
    "max_pool_model.compile(\n",
    "    optimizer=\"adam\",\n",
    "    loss = \"sparse_categorical_crossentropy\",\n",
    "    metrics=[\"sparse_categorical_accuracy\"]\n",
    ")"
   ]
  },
  {
   "cell_type": "code",
   "execution_count": 8,
   "metadata": {},
   "outputs": [
    {
     "name": "stdout",
     "output_type": "stream",
     "text": [
      "Epoch 1/10\n",
      "1875/1875 [==============================] - 16s 8ms/step - loss: 0.2148 - sparse_categorical_accuracy: 0.9394\n",
      "Epoch 2/10\n",
      "1875/1875 [==============================] - 20s 11ms/step - loss: 0.0828 - sparse_categorical_accuracy: 0.9756\n",
      "Epoch 3/10\n",
      "1875/1875 [==============================] - 11s 6ms/step - loss: 0.0623 - sparse_categorical_accuracy: 0.9811\n",
      "Epoch 4/10\n",
      "1875/1875 [==============================] - 30s 16ms/step - loss: 0.0511 - sparse_categorical_accuracy: 0.9848\n",
      "Epoch 5/10\n",
      "1875/1875 [==============================] - 28s 15ms/step - loss: 0.0436 - sparse_categorical_accuracy: 0.9867\n",
      "Epoch 6/10\n",
      "1875/1875 [==============================] - 11s 6ms/step - loss: 0.0377 - sparse_categorical_accuracy: 0.9883\n",
      "Epoch 7/10\n",
      "1874/1875 [============================>.] - ETA: 0s - loss: 0.0325 - sparse_categorical_accuracy: 0.9903\n",
      "Reached 99% accuracy so cancelling training!\n",
      "1875/1875 [==============================] - 15s 8ms/step - loss: 0.0325 - sparse_categorical_accuracy: 0.9903\n",
      "CPU times: total: 13min 9s\n",
      "Wall time: 2min 11s\n"
     ]
    },
    {
     "data": {
      "text/plain": [
       "<keras.callbacks.History at 0x1d4f5804550>"
      ]
     },
     "execution_count": 8,
     "metadata": {},
     "output_type": "execute_result"
    }
   ],
   "source": [
    "%%time\n",
    "max_pool_model.fit(X_train, y_train, epochs=5)"
   ]
  },
  {
   "cell_type": "code",
   "execution_count": 9,
   "metadata": {},
   "outputs": [
    {
     "name": "stdout",
     "output_type": "stream",
     "text": [
      "313/313 [==============================] - 2s 7ms/step - loss: 0.0559 - sparse_categorical_accuracy: 0.9835\n"
     ]
    }
   ],
   "source": [
    "test_loss_max_pool, test_accuracy_max_pool = max_pool_model.evaluate(X_test, y_test)"
   ]
  },
  {
   "cell_type": "code",
   "execution_count": 12,
   "metadata": {},
   "outputs": [
    {
     "name": "stdout",
     "output_type": "stream",
     "text": [
      "313/313 [==============================] - 2s 5ms/step\n"
     ]
    }
   ],
   "source": [
    "y_pred_max_pool = max_pool_model.predict(X_test)\n",
    "y_pred_max_pool = np.argmax(y_pred_max_pool, axis = 1) "
   ]
  },
  {
   "cell_type": "code",
   "execution_count": 15,
   "metadata": {},
   "outputs": [
    {
     "data": {
      "image/png": "[encoded data removed]",
      "text/plain": [
       "<Figure size 640x480 with 2 Axes>"
      ]
     },
     "metadata": {},
     "output_type": "display_data"
    }
   ],
   "source": [
    "cm_max_pool = confusion_matrix(y_test, y_pred_max_pool)\n",
    "\n",
    "sns.heatmap(cm_max_pool, annot=True, fmt='g')\n",
    "plt.title('Max Pooling')\n",
    "plt.show()"
   ]
  },
  {
   "cell_type": "markdown",
   "metadata": {},
   "source": [
    "## Average pooling"
   ]
  },
  {
   "cell_type": "markdown",
   "metadata": {},
   "source": [
    " In this layer, each local region of the input feature map is subjected to an averaging operation, where the output value represents the mean of the values within that region. It makes resulting image more gradient than the original."
   ]
  },
  {
   "cell_type": "markdown",
   "metadata": {},
   "source": [
    "QUIZ!\n",
    "What will be output of this matrix after Average Polling layer with kernel 2x2?\n",
    "[[0 2 8 3]\n",
    " [4 2 4 3]\n",
    " [2 1 5 2]\n",
    " [8 3 6 8]]"
   ]
  },
  {
   "cell_type": "code",
   "execution_count": 4,
   "metadata": {},
   "outputs": [
    {
     "name": "stdout",
     "output_type": "stream",
     "text": [
      "(1, 2, 2, 1)\n",
      "tf.Tensor(\n",
      "[[5. 4.]\n",
      " [3. 2.]], shape=(2, 2), dtype=float32)\n"
     ]
    }
   ],
   "source": [
    "matrix = np.array([[5.,6.,1.,4.],\n",
    "                   [6.,3.,9.,2.],\n",
    "                   [5.,0.,2.,4.],\n",
    "                   [7.,0.,2.,0.]]).reshape(1,4,4,1)\n",
    "\n",
    "average_pooling = tf.keras.layers.AveragePooling2D(pool_size=2, strides=2)\n",
    "average_pooled_matrix = average_pooling(matrix)\n",
    "print(average_pooled_matrix.shape)\n",
    "print(tf.squeeze(average_pooled_matrix))"
   ]
  },
  {
   "cell_type": "code",
   "execution_count": 51,
   "metadata": {},
   "outputs": [],
   "source": [
    "avg_pool_model = tf.keras.models.Sequential([\n",
    "    tf.keras.layers.Conv2D(32, (3,3), activation=\"relu\", padding=\"same\", input_shape=(28, 28, 1)),\n",
    "    tf.keras.layers.AveragePooling2D((2,2), strides=(2,2)),\n",
    "    tf.keras.layers.Flatten(),\n",
    "    tf.keras.layers.Dense(10, activation=\"softmax\")\n",
    "])\n",
    "\n",
    "avg_pool_model.compile(\n",
    "    optimizer=\"adam\",\n",
    "    loss = \"sparse_categorical_crossentropy\",\n",
    "    metrics=[\"sparse_categorical_accuracy\"]\n",
    ")"
   ]
  },
  {
   "cell_type": "code",
   "execution_count": 54,
   "metadata": {},
   "outputs": [
    {
     "name": "stdout",
     "output_type": "stream",
     "text": [
      "Epoch 1/5\n",
      "1875/1875 [==============================] - 50s 26ms/step - loss: 0.0238 - sparse_categorical_accuracy: 0.9929\n",
      "Epoch 2/5\n",
      "1875/1875 [==============================] - 47s 25ms/step - loss: 0.0200 - sparse_categorical_accuracy: 0.9934\n",
      "Epoch 3/5\n",
      "1875/1875 [==============================] - 39s 21ms/step - loss: 0.0181 - sparse_categorical_accuracy: 0.9939\n",
      "Epoch 4/5\n",
      "1875/1875 [==============================] - 40s 21ms/step - loss: 0.0169 - sparse_categorical_accuracy: 0.9944\n",
      "Epoch 5/5\n",
      "1875/1875 [==============================] - 47s 25ms/step - loss: 0.0136 - sparse_categorical_accuracy: 0.9955\n",
      "CPU times: total: 24min 22s\n",
      "Wall time: 3min 42s\n"
     ]
    },
    {
     "data": {
      "text/plain": [
       "<keras.callbacks.History at 0x1398b35fc10>"
      ]
     },
     "execution_count": 54,
     "metadata": {},
     "output_type": "execute_result"
    }
   ],
   "source": [
    "%%time\n",
    "avg_pool_model.fit(X_train, y_train, epochs=5)"
   ]
  },
  {
   "cell_type": "code",
   "execution_count": 59,
   "metadata": {},
   "outputs": [
    {
     "name": "stdout",
     "output_type": "stream",
     "text": [
      "313/313 [==============================] - 4s 12ms/step - loss: 0.1389 - sparse_categorical_accuracy: 0.9795\n"
     ]
    }
   ],
   "source": [
    "test_loss_avg_pool, test_accuracy_avg_pool = avg_pool_model.evaluate(X_test, y_test)"
   ]
  },
  {
   "cell_type": "code",
   "execution_count": 56,
   "metadata": {},
   "outputs": [
    {
     "name": "stdout",
     "output_type": "stream",
     "text": [
      "313/313 [==============================] - 6s 19ms/step\n"
     ]
    }
   ],
   "source": [
    "y_pred_avg_pool = avg_pool_model.predict(X_test)\n",
    "y_pred_avg_pool = np.argmax(y_pred_avg_pool, axis=1)"
   ]
  },
  {
   "cell_type": "code",
   "execution_count": 58,
   "metadata": {},
   "outputs": [
    {
     "data": {
      "image/png": "[encoded data removed]",
      "text/plain": [
       "<Figure size 640x480 with 2 Axes>"
      ]
     },
     "metadata": {},
     "output_type": "display_data"
    }
   ],
   "source": [
    "cm_avg_pool = confusion_matrix(y_test, y_pred_avg_pool)\n",
    "\n",
    "sns.heatmap(cm_avg_pool, annot=True, fmt='g')\n",
    "plt.title('Average Pooling')\n",
    "plt.show()"
   ]
  },
  {
   "cell_type": "markdown",
   "metadata": {},
   "source": [
    "![SegmentLocal](pooling.gif \"Pooling layers\")"
   ]
  },
  {
   "cell_type": "markdown",
   "metadata": {},
   "source": [
    "Quiz!\n",
    "In which situation is Max Pooling more suitable and in which Average Pooling?"
   ]
  },
  {
   "cell_type": "markdown",
   "metadata": {},
   "source": [
    "![Max and Average pooling](Max-pooling-and-average-pooling.png)"
   ]
  }
 ],
 "metadata": {
  "kernelspec": {
   "display_name": "Python 3 (ipykernel)",
   "language": "python",
   "name": "python3"
  },
  "language_info": {
   "codemirror_mode": {
    "name": "ipython",
    "version": 3
   },
   "file_extension": ".py",
   "mimetype": "text/x-python",
   "name": "python",
   "nbconvert_exporter": "python",
   "pygments_lexer": "ipython3",
   "version": "3.10.13"
  }
 },
 "nbformat": 4,
 "nbformat_minor": 2
}

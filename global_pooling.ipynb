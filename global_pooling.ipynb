{
 "cells": [
  {
   "cell_type": "markdown",
   "metadata": {},
   "source": [
    "# Global Pooling"
   ]
  },
  {
   "cell_type": "markdown",
   "metadata": {},
   "source": [
    "In Pooling layers that we discussed before, after layer we need Fully connected or Dense layer where each neuron is connected to every neuron in preceding layer. Global Pooling layers can produce one-dimensional single value that can be executed in softmax without Dense layer."
   ]
  },
  {
   "cell_type": "markdown",
   "metadata": {},
   "source": [
    "## Global max pooling"
   ]
  },
  {
   "cell_type": "markdown",
   "metadata": {},
   "source": []
  },
  {
   "cell_type": "code",
   "execution_count": 4,
   "metadata": {},
   "outputs": [
    {
     "name": "stdout",
     "output_type": "stream",
     "text": [
      "[[[[5. 6. 1. 4.]\n",
      "   [6. 3. 9. 2.]]\n",
      "\n",
      "  [[5. 0. 2. 4.]\n",
      "   [7. 0. 2. 0.]]]]\n",
      "tf.Tensor([[7. 6. 9. 4.]], shape=(1, 4), dtype=float32)\n"
     ]
    }
   ],
   "source": [
    "import numpy as np\n",
    "import tensorflow as tf\n",
    "\n",
    "matrix = np.array([[5.,6.,1.,4.],\n",
    "                   [6.,3.,9.,2.],\n",
    "                   [5.,0.,2.,4.],\n",
    "                   [7.,0.,2.,0.]]).reshape(1,2,2,4)\n",
    "print(matrix)\n",
    "\n",
    "global_max_pooling=tf.keras.layers.GlobalMaxPool2D()\n",
    "global_max_pooled_matrix=global_max_pooling(matrix)\n",
    "print(global_max_pooled_matrix)"
   ]
  },
  {
   "cell_type": "markdown",
   "metadata": {},
   "source": [
    "## Global average pooling"
   ]
  },
  {
   "cell_type": "markdown",
   "metadata": {},
   "source": []
  },
  {
   "cell_type": "code",
   "execution_count": 5,
   "metadata": {},
   "outputs": [
    {
     "name": "stdout",
     "output_type": "stream",
     "text": [
      "tf.Tensor([[5.75 2.25 3.5  2.5 ]], shape=(1, 4), dtype=float32)\n"
     ]
    }
   ],
   "source": [
    "global_average_pooling=tf.keras.layers.GlobalAveragePooling2D()\n",
    "global_average_pooled_matrix=global_average_pooling(matrix)\n",
    "print(global_average_pooled_matrix)"
   ]
  }
 ],
 "metadata": {
  "kernelspec": {
   "display_name": "ml",
   "language": "python",
   "name": "python3"
  },
  "language_info": {
   "codemirror_mode": {
    "name": "ipython",
    "version": 3
   },
   "file_extension": ".py",
   "mimetype": "text/x-python",
   "name": "python",
   "nbconvert_exporter": "python",
   "pygments_lexer": "ipython3",
   "version": "3.10.13"
  }
 },
 "nbformat": 4,
 "nbformat_minor": 2
}
